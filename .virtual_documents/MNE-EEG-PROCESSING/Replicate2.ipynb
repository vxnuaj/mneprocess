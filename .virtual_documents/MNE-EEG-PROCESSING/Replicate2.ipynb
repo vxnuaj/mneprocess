import os
import glob

import numpy as np

import matplotlib
import matplotlib.pyplot as plt

import scipy.io
from scipy.io import loadmat

import mne
from mne.preprocessing import ICA


matfiles = glob.glob('ADHD_part2/*.mat') 

data = {}
matfiles


mat_data = loadmat(matfiles[10])
eeg_data = mat_data['v274']


ch_names = ['Fz', 'Cz', 'Pz', 'C3', 'T3', 'C4', 'T4', 'Fp1', 'Fp2', 'F3', 'F4', 'F7', 'F8', 'P3', 'P4', 'T5', 'T6', 'O1', 'O2']
sfreq = 128

info = mne.create_info(ch_names = ch_names, sfreq=sfreq, ch_types = 'eeg')

eeg_data = eeg_data.T


raw = mne.io.RawArray(eeg_data, info)
raw.apply_function(lambda x: x*1e-6, channel_wise=False)


%matplotlib inline
mne.viz.set_browser_backend("matplotlib")
raw.plot(n_channels=19, scalings="auto", duration = 10.0)


spectrum = raw.compute_psd().plot()





bp_low_cut_freq = 1
bp_high_cut_freq = 30

raw_filtered = raw.copy().filter(bp_low_cut_freq, bp_high_cut_freq)
raw_filtered.compute_psd().plot()





raw_filtered = raw_filtered.notch_filter(50)
raw_filtered.compute_psd().plot()


raw_filtered.plot(n_channels = 19, scalings = "auto", duration = 10.0)








bad_channels = ['Cz']
raw_filtered.info['bads']=bad_channels
raw_filtered.plot(n_channels = 19, scalings = "auto", duration = 10.0)





raw_filtered.set_montage('standard_1020')
raw_filtered.info['bads']=bad_channels
raw_filtered.interpolate_bads()





raw_filtered.plot(scalings = "auto", n_channels = 19, duration = 10.0)





#Feel free to remove the "##" and run the cell to see it in action.

##event_onsets_seconds = [0, 2, 6]
##sfreq = raw_filtered.info['sfreq']
##event_onsets_samples = [int(onset * sfreq) for onset in event_onsets_seconds]
##events = np.array([(onset, 0, 1) for onset in event_onsets_samples], dtype=int)

##epochs = mne.Epochs(raw_filtered, events, tmin=-1, tmax=2, baseline=None)

##epochs.plot(n_channels=len(ch_names), scalings='auto', show=True)





raw_filtered.compute_psd().plot()





start_time = 0.0
end_time = 10.0

raw_filtered = raw_filtered.copy().crop(tmin=start_time, tmax=end_time)


n_components = 18
ica = ICA(n_components=n_components, random_state=10, max_iter = 'auto')
ica.fit(raw_filtered)


ica.plot_components()


ica.plot_properties(raw, picks=4)
