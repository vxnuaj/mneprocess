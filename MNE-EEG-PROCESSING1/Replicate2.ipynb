{
 "cells": [
  {
   "cell_type": "code",
   "execution_count": 10,
   "id": "c677d129-1a35-475e-b7b4-16f8b539ab01",
   "metadata": {
    "tags": []
   },
   "outputs": [],
   "source": [
    "import os\n",
    "import glob\n",
    "\n",
    "import numpy as np\n",
    "\n",
    "import matplotlib\n",
    "import matplotlib.pyplot as plt\n",
    "\n",
    "import scipy.io\n",
    "from scipy.io import loadmat\n",
    "\n",
    "import mne"
   ]
  },
  {
   "cell_type": "code",
   "execution_count": 11,
   "id": "5bf3368d-d8cb-46c6-90b8-e1212db75ffb",
   "metadata": {
    "tags": []
   },
   "outputs": [
    {
     "data": {
      "text/plain": [
       "['MNE-EEG-PROCESSING/ADHD_part2/v177.mat',\n",
       " 'MNE-EEG-PROCESSING/ADHD_part2/v215.mat',\n",
       " 'MNE-EEG-PROCESSING/ADHD_part2/v200.mat',\n",
       " 'MNE-EEG-PROCESSING/ADHD_part2/v213.mat',\n",
       " 'MNE-EEG-PROCESSING/ADHD_part2/v206.mat',\n",
       " 'MNE-EEG-PROCESSING/ADHD_part2/v204.mat',\n",
       " 'MNE-EEG-PROCESSING/ADHD_part2/v238.mat',\n",
       " 'MNE-EEG-PROCESSING/ADHD_part2/v198.mat',\n",
       " 'MNE-EEG-PROCESSING/ADHD_part2/v263.mat',\n",
       " 'MNE-EEG-PROCESSING/ADHD_part2/v288.mat',\n",
       " 'MNE-EEG-PROCESSING/ADHD_part2/v274.mat',\n",
       " 'MNE-EEG-PROCESSING/ADHD_part2/v270.mat',\n",
       " 'MNE-EEG-PROCESSING/ADHD_part2/v265.mat',\n",
       " 'MNE-EEG-PROCESSING/ADHD_part2/v254.mat',\n",
       " 'MNE-EEG-PROCESSING/ADHD_part2/v286.mat',\n",
       " 'MNE-EEG-PROCESSING/ADHD_part2/v279.mat',\n",
       " 'MNE-EEG-PROCESSING/ADHD_part2/v250.mat',\n",
       " 'MNE-EEG-PROCESSING/ADHD_part2/v244.mat',\n",
       " 'MNE-EEG-PROCESSING/ADHD_part2/v246.mat',\n",
       " 'MNE-EEG-PROCESSING/ADHD_part2/v284.mat',\n",
       " 'MNE-EEG-PROCESSING/ADHD_part2/v181.mat',\n",
       " 'MNE-EEG-PROCESSING/ADHD_part2/v234.mat',\n",
       " 'MNE-EEG-PROCESSING/ADHD_part2/v209.mat',\n",
       " 'MNE-EEG-PROCESSING/ADHD_part2/v196.mat',\n",
       " 'MNE-EEG-PROCESSING/ADHD_part2/v236.mat',\n",
       " 'MNE-EEG-PROCESSING/ADHD_part2/v183.mat',\n",
       " 'MNE-EEG-PROCESSING/ADHD_part2/v227.mat',\n",
       " 'MNE-EEG-PROCESSING/ADHD_part2/v179.mat',\n",
       " 'MNE-EEG-PROCESSING/ADHD_part2/v190.mat',\n",
       " 'MNE-EEG-PROCESSING/ADHD_part2/v231.mat',\n",
       " 'MNE-EEG-PROCESSING/ADHD_part2/v219.mat']"
      ]
     },
     "execution_count": 11,
     "metadata": {},
     "output_type": "execute_result"
    }
   ],
   "source": [
    "matfiles = glob.glob('MNE-EEG-PROCESSING/ADHD_part2/*.mat') \n",
    "\n",
    "data = {}\n",
    "matfiles"
   ]
  },
  {
   "cell_type": "code",
   "execution_count": 12,
   "id": "431e6d1e-81d9-48d3-a92c-11dd1fd7ee38",
   "metadata": {
    "tags": []
   },
   "outputs": [],
   "source": [
    "mat_data = loadmat(matfiles[0])\n",
    "\n",
    "eeg_data = mat_data['v177']"
   ]
  },
  {
   "cell_type": "markdown",
   "id": "06f8d8ad-c77b-48ea-bbef-ec6ef591304f",
   "metadata": {},
   "source": [
    "The loadmat automatically turns the EEG data represented by the name `v177` into a NumPy array which we refernece to as `eeg_data`."
   ]
  },
  {
   "cell_type": "code",
   "execution_count": 13,
   "id": "4b355ca7-38e2-422b-845e-cff1335794dc",
   "metadata": {
    "tags": []
   },
   "outputs": [],
   "source": [
    "ch_names = ['1', '2', '3', '4', '5', '6', '7', '8', '9', '10', '11', '12', '13', '14', '15', '16', '17', '18', '19']\n",
    "sfreq = 128\n",
    "\n",
    "info = mne.create_info(ch_names = ch_names, sfreq=sfreq, ch_types = 'eeg')\n",
    "\n",
    "eeg_data = eeg_data.T"
   ]
  },
  {
   "cell_type": "markdown",
   "id": "fd25dee0-0a9a-41c7-bba5-37f8e7e6f3e0",
   "metadata": {},
   "source": [
    "We assign channel names and sampling frequencies to the corresponding variables.\n",
    "\n",
    "Then using the `mne.create_info()` function, we create an info object that holds metadata on our EEG dataset.\n",
    "\n",
    "Using `eeg_data.T` we transpose our NumPy array and re-assign it to the object `eeg_data`"
   ]
  },
  {
   "cell_type": "code",
   "execution_count": 14,
   "id": "fb4df499-c881-4ed6-94eb-ffb95734c378",
   "metadata": {
    "tags": []
   },
   "outputs": [
    {
     "name": "stdout",
     "output_type": "stream",
     "text": [
      "Creating RawArray with float64 data, n_channels=19, n_times=16697\n",
      "    Range : 0 ... 16696 =      0.000 ...   130.438 secs\n",
      "Ready.\n"
     ]
    }
   ],
   "source": [
    "raw = mne.io.RawArray(eeg_data, info)"
   ]
  },
  {
   "cell_type": "code",
   "execution_count": 15,
   "id": "6bb2816d-9eb1-4e49-8c9b-76bcf40539bb",
   "metadata": {
    "tags": []
   },
   "outputs": [
    {
     "name": "stdout",
     "output_type": "stream",
     "text": [
      "Using pyopengl with version 3.1.6\n"
     ]
    },
    {
     "data": {
      "text/plain": [
       "<mne_qt_browser._pg_figure.MNEQtBrowser at 0x16952f0a0>"
      ]
     },
     "execution_count": 15,
     "metadata": {},
     "output_type": "execute_result"
    }
   ],
   "source": [
    "%matplotlib inline\n",
    "raw.plot(n_channels=19, duration=1000, start=0)"
   ]
  },
  {
   "cell_type": "markdown",
   "id": "e3dc9ee1-604d-4a90-99c7-93a632dca816",
   "metadata": {},
   "source": [
    "The `mne.io.RawArray()` function, gets our raw EEG data and other metadata to create a `raw` object in MNE from our EEG data stored in our NumPy array of `v177`.\n",
    "\n",
    "`v177.T` transposes our NumPy array turning it into a format designated for use in MNE (channels in rows, time points in columns).\n",
    "\n",
    "Our metadata stored in the `info` object is called by the `RawArray()` function. \n",
    "\n",
    "The transposed `v177.T` and `info` is stored in the `raw` object."
   ]
  },
  {
   "cell_type": "code",
   "execution_count": 16,
   "id": "74af1f31-9777-48f8-b2b6-fd0ba58f9777",
   "metadata": {},
   "outputs": [],
   "source": [
    "#raw.filter(l_freq=1, h_freq=40)"
   ]
  },
  {
   "cell_type": "markdown",
   "id": "47a8c9d5-ddc6-4e90-b822-ba1836e8035e",
   "metadata": {},
   "source": [
    "The `raw.filter()` function applies a bandpass frequency with the lowpass at 1 Hz and highpass at 40 Hz."
   ]
  },
  {
   "cell_type": "code",
   "execution_count": 17,
   "id": "fe825e5d-9a19-4bcc-b5d8-8a748d3b988c",
   "metadata": {
    "tags": []
   },
   "outputs": [],
   "source": [
    "##%matplotlib inline\n",
    "##raw.plot(n_channels=19, duration=10, start=10)"
   ]
  },
  {
   "cell_type": "code",
   "execution_count": 19,
   "id": "553b1fed-3045-40be-9df5-5ff8001bcaad",
   "metadata": {
    "tags": []
   },
   "outputs": [
    {
     "name": "stdout",
     "output_type": "stream",
     "text": [
      "[  -19.   -55.    85. ... -1075.  -970. -1075.]\n",
      "[568. 678. 715. ... 457. 310. 347.]\n"
     ]
    }
   ],
   "source": [
    "print(eeg_data.min(axis=0))\n",
    "print(eeg_data.max(axis=0))"
   ]
  },
  {
   "cell_type": "code",
   "execution_count": 20,
   "id": "f36d644b-661d-4a97-8ef0-4d74213ffe78",
   "metadata": {
    "tags": []
   },
   "outputs": [
    {
     "name": "stdout",
     "output_type": "stream",
     "text": [
      "['1', '2', '3', '4', '5', '6', '7', '8', '9', '10', '11', '12', '13', '14', '15', '16', '17', '18', '19']\n"
     ]
    }
   ],
   "source": [
    "print(info.ch_names)"
   ]
  },
  {
   "cell_type": "code",
   "execution_count": 21,
   "id": "4f86fc61-2a5b-4e84-a921-d98ba51fb7f9",
   "metadata": {
    "tags": []
   },
   "outputs": [
    {
     "name": "stdout",
     "output_type": "stream",
     "text": [
      "(19, 16697)\n"
     ]
    }
   ],
   "source": [
    "print(eeg_data.shape)\n"
   ]
  },
  {
   "cell_type": "code",
   "execution_count": 22,
   "id": "46c131ff-4a71-4400-964a-164f00735452",
   "metadata": {
    "tags": []
   },
   "outputs": [
    {
     "name": "stdout",
     "output_type": "stream",
     "text": [
      "128.0\n"
     ]
    }
   ],
   "source": [
    "print(info['sfreq'])"
   ]
  },
  {
   "cell_type": "code",
   "execution_count": 23,
   "id": "2d57c750-ad7d-4a23-9278-3c72390296e8",
   "metadata": {
    "tags": []
   },
   "outputs": [
    {
     "name": "stdout",
     "output_type": "stream",
     "text": [
      "[[   85.   121.   191. ... -1075.  -970. -1075.]\n",
      " [  -19.   -55.    85. ...  -407.  -407.  -407.]\n",
      " [  163.   273.   347. ...    16.    16.   -20.]\n",
      " ...\n",
      " [  310.   420.   568. ...   310.   273.   347.]\n",
      " [  568.   678.   715. ...   457.   163.   -57.]\n",
      " [  310.   494.   568. ...   273.   310.   347.]]\n"
     ]
    }
   ],
   "source": [
    "print(eeg_data[:10, :])  # Print the first 10 rows (adjust as needed)"
   ]
  }
 ],
 "metadata": {
  "kernelspec": {
   "display_name": "Python [conda env:rep2]",
   "language": "python",
   "name": "conda-env-rep2-py"
  },
  "language_info": {
   "codemirror_mode": {
    "name": "ipython",
    "version": 3
   },
   "file_extension": ".py",
   "mimetype": "text/x-python",
   "name": "python",
   "nbconvert_exporter": "python",
   "pygments_lexer": "ipython3",
   "version": "3.11.6"
  }
 },
 "nbformat": 4,
 "nbformat_minor": 5
}
